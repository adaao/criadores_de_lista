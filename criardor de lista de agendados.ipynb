{
 "cells": [
  {
   "cell_type": "code",
   "execution_count": 21,
   "metadata": {},
   "outputs": [],
   "source": [
    "campanhas = [\n",
    "    'Sigma | 2021 | Link Patrocinado | Institucional | MKT4',\n",
    "    'Sigma | 2021 | Link Patrocinado | Ensino Médio | MKT4',\n",
    "    'Sigma | 2021 | Link Patrocinado | Ensino Infantil | MKT4',\n",
    "    'CIE | 2021 | Link Patrocinado | Institucional | MKT4',\n",
    "    'Integrado | 2021 | Link Patrocinado | Institucional | MKT4',\n",
    "    'Maxi | 2021 | Search | Pre Vestibular | MKT4',\n",
    "    'Maxi | 2021 | Link Patrocinado | Institucional | MKT4',\n",
    "    'Maxi | 2021 | Link Patrocinado | Ensino Médio | MKT4',\n",
    "    'Maxi | 2021 | Display | Pre Vestibular | MKT4',\n",
    "    'NEODNA | 2021 | LINK PATROCINADO | ENSINO MÉDIO |MKT4',\n",
    "    'NEODNA | 2021 | LINK PATROCINADO | INSTITUCIONAL |  MKT4',\n",
    "    'ECSA | 2021 | Link Patrocinado | Institucional | MKT4',\n",
    "    'CEI | 2021 | Link Patrocinado | Institucional | MKT4',\n",
    "    'Lato Sensu | 2021 | Link Patrocinado | Infantil | MKT4',\n",
    "    'Lato Sensu | 2021 | Link Patrocinado | Institucional | MKT4',\n",
    "    'Lato Sensu | 2021 | Link Patrocinado | Médio | MKT4',\n",
    "    'Lato Sensu | 2021 | Display | Retorno as Aulas | MKT4',\n",
    "    'Motivo | Search | Educação Infantil | MKT4',\n",
    "    'Salvador | 2021 | Link Patrocinado | Institucional | MKT4',\n",
    "    'Anglo Alphaville | Institucional | MKT4',\n",
    "    'Santi | 2021 | Link Patrocinado | Institucional | MKT4',\n",
    "    'Visão | 2021 | Link Patrocinado | Institucional | MKT4',\n",
    "    'Visão | 2021 | Link Patrocinado | Ensino Médio | MKT4',\n",
    "    'Anglo CSA | 2021 | Link Patrocinado | Institucional | MKT4'\n",
    "]"
   ]
  },
  {
   "cell_type": "code",
   "execution_count": 20,
   "metadata": {},
   "outputs": [],
   "source": [
    "import pyautogui as pag\n",
    "import time\n",
    "import pyperclip\n",
    "\n",
    "link_da_lista_de_base = 'https://app.hubspot.com/contacts/7725343/lists/6064'\n",
    "#coordenadas pegas com .position()\n",
    "#campanha = 'asdfasdfasdfasdfasdfasdfasdfasdfasdfasdassdf'\n",
    "botao_acoes = (1454, 320) \n",
    "botao_clonar = (1438, 563) \n",
    "posicao_nome_lista = (175, 321)\n",
    "posicao_nome_campanha_original = (188, 664)\n",
    "posicao_alterar_nome_campanha = (57, 621)\n",
    "posicao_atualizar_filtro_pequeno = (58, 822)\n",
    "posicao_atualizar_filtro_grande = (74, 869)\n",
    "posicao_botao_salvar = (1572, 318)\n",
    "\n",
    "def clona_lista(campanha):\n",
    "    pag.hotkey('ctrl', 't')\n",
    "    time.sleep(1)\n",
    "    pyperclip.copy(link_da_lista_de_base)\n",
    "    pag.hotkey('ctrl', 'v')\n",
    "    time.sleep(1)\n",
    "    pag.press('enter')\n",
    "    time.sleep(3)\n",
    "    pag.click(botao_acoes)\n",
    "    time.sleep(1)\n",
    "    pag.click(botao_clonar)\n",
    "    time.sleep(1)\n",
    "    pag.click(posicao_nome_campanha_original)\n",
    "    pag.click(posicao_alterar_nome_campanha)\n",
    "    pag.press('backspace')\n",
    "    pyperclip.copy(campanha)\n",
    "    pag.hotkey('ctrl', 'v')\n",
    "   \n",
    "    if campanha.__len__() > 41:\n",
    "        posicao_botao_atualizar = posicao_atualizar_filtro_grande\n",
    "    else:\n",
    "        posicao_botao_atualizar = posicao_atualizar_filtro_pequeno\n",
    "    \n",
    "    time.sleep(2)\n",
    "    pag.click(posicao_botao_atualizar)\n",
    "    time.sleep(1)\n",
    "    pag.click(posicao_nome_lista)\n",
    "    pag.hotkey('ctrl', 'a')\n",
    "    campanha += ' | agendados abril 2021'\n",
    "    pyperclip.copy(campanha)\n",
    "    pag.hotkey('ctrl', 'v')\n",
    "    pag.click(posicao_botao_salvar)\n",
    "    time.sleep(2)\n",
    "\n",
    "\n",
    "def salvar_link():\n",
    "    pag.hotkey('ctrl', 'l')\n",
    "    pag.hotkey('ctrl', 'a')\n",
    "    pag.hotkey('ctrl', 'c')\n",
    "    pag.hotkey('alt', 'tab')\n",
    "    pag.hotkey('ctrl', 'v')\n",
    "    pag.press('enter')\n",
    "    pag.hotkey('alt', 'tab')\n",
    "    pag.hotkey('ctrl', 'w')\n",
    "    "
   ]
  },
  {
   "cell_type": "code",
   "execution_count": 22,
   "metadata": {},
   "outputs": [],
   "source": [
    "for campanha in campanhas:\n",
    "    clona_lista(campanha)\n",
    "    salvar_link()"
   ]
  },
  {
   "cell_type": "code",
   "execution_count": 11,
   "metadata": {},
   "outputs": [
    {
     "name": "stdout",
     "output_type": "stream",
     "text": [
      "posição x: 1572, posição y: 318\n"
     ]
    },
    {
     "data": {
      "text/plain": [
       "'OK'"
      ]
     },
     "execution_count": 11,
     "metadata": {},
     "output_type": "execute_result"
    }
   ],
   "source": [
    "#pega posição do mouse\n",
    "#pag.alert('Aperte ok, posicione o mouse no lugar a se obter a posição e aguarde 5 segundos')\n",
    "time.sleep(7)\n",
    "x, y = pag.position()\n",
    "print('posição x: {}, posição y: {}'.format(x, y))\n",
    "pag.alert('posição gravada')"
   ]
  },
  {
   "cell_type": "code",
   "execution_count": 17,
   "metadata": {},
   "outputs": [
    {
     "data": {
      "text/plain": [
       "41"
      ]
     },
     "execution_count": 17,
     "metadata": {},
     "output_type": "execute_result"
    }
   ],
   "source": [
    "'asdfasdfasdfasdfasdfasdfasdfasdfasdfasdassdf'.__len__()"
   ]
  },
  {
   "cell_type": "code",
   "execution_count": 19,
   "metadata": {},
   "outputs": [],
   "source": [
    "clona_lista('Sigma | 2021 | Search | Avante | MKT4')\n",
    "salvar_link()"
   ]
  },
  {
   "cell_type": "code",
   "execution_count": null,
   "metadata": {},
   "outputs": [],
   "source": [
    "salvar_link()"
   ]
  }
 ],
 "metadata": {
  "kernelspec": {
   "display_name": "Python 3",
   "language": "python",
   "name": "python3"
  },
  "language_info": {
   "codemirror_mode": {
    "name": "ipython",
    "version": 3
   },
   "file_extension": ".py",
   "mimetype": "text/x-python",
   "name": "python",
   "nbconvert_exporter": "python",
   "pygments_lexer": "ipython3",
   "version": "3.8.5"
  }
 },
 "nbformat": 4,
 "nbformat_minor": 4
}
